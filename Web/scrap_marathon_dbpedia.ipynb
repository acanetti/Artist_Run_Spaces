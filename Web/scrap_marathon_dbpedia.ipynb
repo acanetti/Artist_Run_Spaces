{
  "nbformat": 4,
  "nbformat_minor": 0,
  "metadata": {
    "colab": {
      "name": "scrap_marathon_dbpedia",
      "provenance": [],
      "collapsed_sections": [],
      "toc_visible": true,
      "include_colab_link": true
    },
    "kernelspec": {
      "display_name": "Python 3",
      "name": "python3"
    }
  },
  "cells": [
    {
      "cell_type": "markdown",
      "metadata": {
        "id": "view-in-github",
        "colab_type": "text"
      },
      "source": [
        "<a href=\"https://colab.research.google.com/github/acanetti/Artist_Run_Spaces/blob/master/Web/scrap_marathon_dbpedia.ipynb\" target=\"_parent\"><img src=\"https://colab.research.google.com/assets/colab-badge.svg\" alt=\"Open In Colab\"/></a>"
      ]
    },
    {
      "cell_type": "markdown",
      "metadata": {
        "id": "MmZW0P0TXa1t",
        "colab_type": "text"
      },
      "source": [
        "VERSION 1 _ DBPEDIA"
      ]
    },
    {
      "cell_type": "markdown",
      "metadata": {
        "id": "YaPk0f4FNrVg",
        "colab_type": "text"
      },
      "source": [
        "https://medium.com/france-school-of-ai/web-scraping-avec-python-apprenez-%C3%A0-utiliser-beautifulsoup-proxies-et-un-faux-user-agent-d7bfb66b6556\n"
      ]
    },
    {
      "cell_type": "code",
      "metadata": {
        "id": "oxFNqr7WF57Y",
        "colab_type": "code",
        "colab": {}
      },
      "source": [
        "import pandas as pd "
      ],
      "execution_count": 0,
      "outputs": []
    },
    {
      "cell_type": "code",
      "metadata": {
        "id": "nQHxg4kcXgbL",
        "colab_type": "code",
        "outputId": "12fb1bee-e5f9-4766-c494-469377823999",
        "colab": {
          "base_uri": "https://localhost:8080/",
          "height": 279
        }
      },
      "source": [
        "df=pd.read_csv('theo_lienWeb.csv', sep=',',encoding= \"utf-8\")\n",
        "df.head"
      ],
      "execution_count": 0,
      "outputs": [
        {
          "output_type": "execute_result",
          "data": {
            "text/plain": [
              "<bound method NDFrame.head of       id                             nom  ... Unnamed: 10 Unnamed: 11\n",
              "0      1                        Glassbox  ...         NaN         NaN\n",
              "1      3                       STANDARDS  ...         NaN         NaN\n",
              "2      4                            0gms  ...         NaN         NaN\n",
              "3      5                       Immanence  ...         NaN         NaN\n",
              "4      6                 Le Commissariat  ...         NaN         NaN\n",
              "..   ...                             ...  ...         ...         ...\n",
              "274  315                           *DUUU  ...         NaN         NaN\n",
              "275  316  Le Cube – independent art room  ...         NaN         NaN\n",
              "276  317                     Chiffonnier  ...         NaN         NaN\n",
              "277  318                      Super F-97  ...         NaN         NaN\n",
              "278  319                      La Civette  ...         NaN         NaN\n",
              "\n",
              "[279 rows x 12 columns]>"
            ]
          },
          "metadata": {
            "tags": []
          },
          "execution_count": 3
        }
      ]
    },
    {
      "cell_type": "markdown",
      "metadata": {
        "id": "vzMYxwyO33x1",
        "colab_type": "text"
      },
      "source": [
        "**1)  Récuperer la page web d'un site, scraper récupere ses balises paragrpahe \"p\" et retirer toutes les balises.**\n"
      ]
    },
    {
      "cell_type": "code",
      "metadata": {
        "id": "Gqhq2JSGGKoP",
        "colab_type": "code",
        "outputId": "f8925d4f-4645-4a59-e104-2590dfb58ade",
        "colab": {
          "base_uri": "https://localhost:8080/",
          "height": 36
        }
      },
      "source": [
        "df['website'][0]"
      ],
      "execution_count": 0,
      "outputs": [
        {
          "output_type": "execute_result",
          "data": {
            "text/plain": [
              "'www.glassbox.fr'"
            ]
          },
          "metadata": {
            "tags": []
          },
          "execution_count": 4
        }
      ]
    },
    {
      "cell_type": "code",
      "metadata": {
        "id": "3svWY3Wu3abn",
        "colab_type": "code",
        "outputId": "5bdce9dd-6aeb-4abf-b109-d450d76b1466",
        "colab": {
          "base_uri": "https://localhost:8080/",
          "height": 242
        }
      },
      "source": [
        "df['website']"
      ],
      "execution_count": 0,
      "outputs": [
        {
          "output_type": "execute_result",
          "data": {
            "text/plain": [
              "0                    www.glassbox.fr\n",
              "1      www.standards-expositions.com\n",
              "2                       www.0gms.com\n",
              "3             www.art-immanence.org/\n",
              "4             www.lecommissariat.fr/\n",
              "                   ...              \n",
              "274                 www.duuuradio.fr\n",
              "275                   lecube-art.com\n",
              "276              @atelierchiffonnier\n",
              "277                        @superF97\n",
              "278                     @lacivette76\n",
              "Name: website, Length: 279, dtype: object"
            ]
          },
          "metadata": {
            "tags": []
          },
          "execution_count": 5
        }
      ]
    },
    {
      "cell_type": "code",
      "metadata": {
        "id": "BVWWfBkzOWA3",
        "colab_type": "code",
        "colab": {}
      },
      "source": [
        "import requests\n",
        "response = requests.get('http://la-loge.be')"
      ],
      "execution_count": 0,
      "outputs": []
    },
    {
      "cell_type": "code",
      "metadata": {
        "id": "EW8F_8PMNnKD",
        "colab_type": "code",
        "outputId": "e987714c-e4b6-4063-a380-9f1ae8a4fff3",
        "colab": {
          "base_uri": "https://localhost:8080/",
          "height": 56
        }
      },
      "source": [
        "response.text"
      ],
      "execution_count": 0,
      "outputs": [
        {
          "output_type": "execute_result",
          "data": {
            "text/plain": [
              "'<!DOCTYPE html PUBLIC \"-//W3C//DTD XHTML+RDFa 1.0//EN\"\\n  \"http://www.w3.org/MarkUp/DTD/xhtml-rdfa-1.dtd\">\\n<html xmlns=\"http://www.w3.org/1999/xhtml\" xml:lang=\"en\" version=\"XHTML+RDFa 1.0\" dir=\"ltr\"\\n  xmlns:content=\"http://purl.org/rss/1.0/modules/content/\"\\n  xmlns:dc=\"http://purl.org/dc/terms/\"\\n  xmlns:foaf=\"http://xmlns.com/foaf/0.1/\"\\n  xmlns:og=\"http://ogp.me/ns#\"\\n  xmlns:rdfs=\"http://www.w3.org/2000/01/rdf-schema#\"\\n  xmlns:sioc=\"http://rdfs.org/sioc/ns#\"\\n  xmlns:sioct=\"http://rdfs.org/sioc/types#\"\\n  xmlns:skos=\"http://www.w3.org/2004/02/skos/core#\"\\n  xmlns:xsd=\"http://www.w3.org/2001/XMLSchema#\">\\n\\n<head profile=\"http://www.w3.org/1999/xhtml/vocab\">\\n  <meta http-equiv=\"Content-Type\" content=\"text/html; charset=utf-8\" />\\n<link rel=\"shortcut icon\" href=\"http://la-loge.be/sites/default/files/logo.png\" type=\"image/png\" />\\n<link rel=\"shortlink\" href=\"/node/171\" />\\n<link rel=\"canonical\" href=\"/project/learning-from-artemisia\" />\\n<meta name=\"Generator\" content=\"Drupal 7 (http://drupal.org)\" />\\n  <title>Learning from Artemisia | la loge</title>\\n  <link type=\"text/css\" rel=\"stylesheet\" href=\"http://la-loge.be/sites/default/files/css/css_xE-rWrJf-fncB6ztZfd2huxqgxu4WO-qwma6Xer30m4.css\" media=\"all\" />\\n<link type=\"text/css\" rel=\"stylesheet\" href=\"http://la-loge.be/sites/default/files/css/css_6jDkNKo7sk9LT4FtM6S3uAWlONT3_H-jDCCvQxBxmPc.css\" media=\"all\" />\\n<link type=\"text/css\" rel=\"stylesheet\" href=\"http://la-loge.be/sites/default/files/css/css_9CrnA_yXbCj0uBzM0VF145XHbBF7Wf5j5HLLCUgItz8.css\" media=\"all\" />\\n<link type=\"text/css\" rel=\"stylesheet\" href=\"http://la-loge.be/sites/default/files/css/css_RGlLDrWdo9a4hnGg0O3OctW0jlzx640Gs45Oy5E6G1o.css\" media=\"all\" />\\n  <script type=\"text/javascript\" src=\"http://la-loge.be/sites/default/files/js/js_vDrW3Ry_4gtSYaLsh77lWhWjIC6ml2QNkcfvfP5CVFs.js\"></script>\\n<script type=\"text/javascript\" src=\"http://la-loge.be/sites/default/files/js/js_IfMCH1o4K_O4ro0fwYHrd8Ci49uja6uXyqZ6ejkc3gs.js\"></script>\\n<script type=\"text/javascript\" src=\"http://la-loge.be/sites/default/files/js/js_feCb-jJFInT06UuxJfe9dtdnev2FAw-LxZcuLu49IQ0.js\"></script>\\n<script type=\"text/javascript\">\\n<!--//--><![CDATA[//><!--\\njQuery.extend(Drupal.settings, {\"basePath\":\"\\\\/\",\"pathPrefix\":\"\",\"ajaxPageState\":{\"theme\":\"laloge\",\"theme_token\":\"cqtv8ZXrX-GfQuuoAkFwS4lXUsHaXs4Koo65VAd8USA\",\"js\":{\"misc\\\\/jquery.js\":1,\"misc\\\\/jquery.once.js\":1,\"misc\\\\/drupal.js\":1,\"misc\\\\/ajax.js\":1,\"sites\\\\/all\\\\/libraries\\\\/colorbox\\\\/jquery.colorbox-min.js\":1,\"sites\\\\/all\\\\/modules\\\\/colorbox\\\\/js\\\\/colorbox.js\":1,\"sites\\\\/all\\\\/modules\\\\/colorbox\\\\/styles\\\\/plain\\\\/colorbox_style.js\":1,\"sites\\\\/all\\\\/modules\\\\/colorbox\\\\/js\\\\/colorbox_load.js\":1,\"sites\\\\/all\\\\/modules\\\\/dhtml_menu\\\\/dhtml_menu.js\":1,\"sites\\\\/all\\\\/libraries\\\\/jquery.cycle\\\\/jquery.cycle.all.js\":1,\"sites\\\\/all\\\\/modules\\\\/field_slideshow\\\\/field_slideshow.js\":1,\"misc\\\\/progress.js\":1,\"sites\\\\/all\\\\/modules\\\\/colorbox_node\\\\/colorbox_node.js\":1},\"css\":{\"modules\\\\/system\\\\/system.base.css\":1,\"modules\\\\/system\\\\/system.menus.css\":1,\"modules\\\\/system\\\\/system.messages.css\":1,\"modules\\\\/system\\\\/system.theme.css\":1,\"sites\\\\/all\\\\/modules\\\\/colorbox_node\\\\/colorbox_node.css\":1,\"sites\\\\/all\\\\/modules\\\\/date\\\\/date_api\\\\/date.css\":1,\"modules\\\\/field\\\\/theme\\\\/field.css\":1,\"modules\\\\/node\\\\/node.css\":1,\"modules\\\\/search\\\\/search.css\":1,\"modules\\\\/user\\\\/user.css\":1,\"sites\\\\/all\\\\/modules\\\\/views\\\\/css\\\\/views.css\":1,\"sites\\\\/all\\\\/modules\\\\/ckeditor\\\\/ckeditor.css\":1,\"sites\\\\/all\\\\/modules\\\\/colorbox\\\\/styles\\\\/plain\\\\/colorbox_style.css\":1,\"sites\\\\/all\\\\/modules\\\\/ctools\\\\/css\\\\/ctools.css\":1,\"sites\\\\/all\\\\/modules\\\\/dhtml_menu\\\\/dhtml_menu.css\":1,\"sites\\\\/all\\\\/modules\\\\/field_slideshow\\\\/field_slideshow.css\":1,\"sites\\\\/all\\\\/themes\\\\/laloge\\\\/style.css\":1}},\"colorbox\":{\"transition\":\"none\",\"speed\":\"100\",\"opacity\":\"0.85\",\"slideshow\":false,\"slideshowAuto\":true,\"slideshowSpeed\":\"2500\",\"slideshowStart\":\"start slideshow\",\"slideshowStop\":\"stop slideshow\",\"current\":\"{current} of {total}\",\"previous\":\"\\\\u00ab Prev\",\"next\":\"Next \\\\u00bb\",\"close\":\"Close\",\"overlayClose\":true,\"returnFocus\":true,\"maxWidth\":\"98%\",\"maxHeight\":\"98%\",\"initialWidth\":\"100%\",\"initialHeight\":\"100%\",\"fixed\":false,\"scrolling\":false,\"mobiledetect\":false,\"mobiledevicewidth\":\"480px\"},\"dhtmlMenu\":{\"nav\":\"none\",\"animation\":{\"effects\":{\"height\":0,\"width\":0,\"opacity\":0},\"speed\":\"500\"},\"effects\":{\"siblings\":\"close-all\",\"children\":\"close-children\",\"remember\":\"0\"},\"filter\":{\"type\":\"whitelist\",\"list\":{\"menu-menu-1\":\"menu-menu-1\",\"main-menu\":0,\"management\":0,\"navigation\":0,\"shortcut-set-1\":0,\"user-menu\":0}}},\"field_slideshow\":{\"field-slideshow-1\":{\"fx\":\"fade\",\"speed\":\"1000\",\"timeout\":\"4000\",\"pause\":0,\"start_on_hover\":0,\"carousel_visible\":\"3\",\"carousel_scroll\":\"1\",\"carousel_speed\":\"500\",\"carousel_vertical\":0,\"carousel_circular\":0,\"carousel_follow\":0,\"carousel_skin\":\"\",\"pager\":\"\",\"controls\":[]}},\"urlIsAjaxTrusted\":{\"\\\\/\":true},\"colorbox_node\":{\"width\":\"100%\",\"height\":\"100%\"}});\\n//--><!]]>\\n</script>\\n</head>\\n<body class=\"html front not-logged-in no-sidebars page-node page-node- page-node-171 node-type-post\" >\\n  <div id=\"skip-link\">\\n    <a href=\"#main-content\" class=\"element-invisible element-focusable\">Skip to main content</a>\\n  </div>\\n    \\n<div id=\"total\">\\n<div id=\"header\">\\n    <div class=\"region region-header\">\\n    <div id=\"block-menu-menu-menu-1\" class=\"block block-menu\">\\n\\n        <h2> </h2>\\n    \\n  <div class=\"content\">\\n    <ul class=\"menu\"><li class=\"first expanded dhtml-menu collapsed start-collapsed nolink\" id=\"dhtml_menu-519\"><a>About</a><ul class=\"menu\"><li class=\"first leaf dhtml-menu dhtml-menu\" id=\"dhtml_menu-523-1\"><a href=\"/la-loge\">la loge</a></li>\\n<li class=\"leaf dhtml-menu dhtml-menu\" id=\"dhtml_menu-524-1\"><a href=\"/building\">building</a></li>\\n<li class=\"leaf dhtml-menu dhtml-menu\" id=\"dhtml_menu-525-1\"><a href=\"/team\">team</a></li>\\n<li class=\"last leaf dhtml-menu dhtml-menu\" id=\"dhtml_menu-886-1\"><a href=\"/rent-la-loge\">rent la loge</a></li>\\n</ul></li>\\n<li class=\"collapsed dhtml-menu collapsed start-collapsed nolink\" id=\"dhtml_menu-521\"><a>Projects</a><ul class=\"menu\"><li class=\"first leaf dhtml-menu dhtml-menu\" id=\"dhtml_menu-878-1\"><a href=\"/projects/current\" title=\"\">current</a></li>\\n<li class=\"leaf dhtml-menu dhtml-menu\" id=\"dhtml_menu-788-1\"><a href=\"/projects/past\" title=\"\">past</a></li>\\n<li class=\"last leaf dhtml-menu dhtml-menu\" id=\"dhtml_menu-809-1\"><a href=\"/projects/future\">future</a></li>\\n</ul></li>\\n<li class=\"collapsed dhtml-menu collapsed start-collapsed nolink\" id=\"dhtml_menu-522\"><a>Events</a><ul class=\"menu\"><li class=\"first leaf dhtml-menu dhtml-menu\" id=\"dhtml_menu-885-1\"><a href=\"/events/current\" title=\"\">current</a></li>\\n<li class=\"leaf dhtml-menu dhtml-menu\" id=\"dhtml_menu-879-1\"><a href=\"/events/past\" title=\"\">Past</a></li>\\n<li class=\"last leaf dhtml-menu dhtml-menu\" id=\"dhtml_menu-881-1\"><a href=\"/events/future\" title=\"\">future</a></li>\\n</ul></li>\\n<li class=\"collapsed dhtml-menu collapsed start-collapsed nolink\" id=\"dhtml_menu-1522\"><a>Editions</a><ul class=\"menu\"><li class=\"first leaf dhtml-menu dhtml-menu\" id=\"dhtml_menu-1523-1\"><a href=\"/editions\" title=\"\">works</a></li>\\n<li class=\"last leaf dhtml-menu dhtml-menu\" id=\"dhtml_menu-1524-1\"><a href=\"/publications\" title=\"\">publications</a></li>\\n</ul></li>\\n<li class=\"last collapsed dhtml-menu collapsed start-collapsed nolink\" id=\"dhtml_menu-520\"><a>Contact</a><ul class=\"menu\"><li class=\"first leaf dhtml-menu dhtml-menu\" id=\"dhtml_menu-882-1\"><a href=\"/contact\">La Loge</a></li>\\n<li class=\"leaf dhtml-menu dhtml-menu\" id=\"dhtml_menu-883-1\"><a href=\"/newsletter-subscription\">newsletter</a></li>\\n<li class=\"last leaf dhtml-menu dhtml-menu\" id=\"dhtml_menu-1678-1\"><a href=\"https://www.la-loge.be/press\" title=\"press information\">Press</a></li>\\n</ul></li>\\n</ul>  </div>\\n</div>\\n<div id=\"block-block-9\" class=\"block block-block\">\\n\\n      \\n  <div class=\"content\">\\n    <p><br /></p>\\n  </div>\\n</div>\\n<div id=\"block-block-1\" class=\"block block-block\">\\n\\n      \\n  <div class=\"content\">\\n    <div id=\"adress\">\\n\\tKluisstraat - rue de l’Ermitage 86<br />\\n\\tB-1050 Brussels\\n<p>\\t\\xa0</p></div>\\n<p style=\"position:absolute; color:#66ec85;  font-weight: normal; background-color: #fff; padding-bottom: 1em; margin-top: 3.8em; padding-top:1em;\">\\n\\t\\xa0</p>\\n  </div>\\n</div>\\n<div id=\"block-block-5\" class=\"block block-block\">\\n\\n      \\n  <div class=\"content\">\\n    <p><a href=\"http://la-loge.be\"><br /><img src=\"http://la-loge.be/sites/default/files/logos/logo-project.png\" /><br /></a></p>\\n  </div>\\n</div>\\n  </div>\\n</div>\\n\\n\\n<div id=\"main\">\\n\\t<div id=\"sidebar\">\\n\\t    <div class=\"tabs\"></div>\\t\\t\\t\\t\\t</div>\\n\\t<div id=\"column1\">\\n                          <div class=\"region region-content\">\\n    <div id=\"block-system-main\" class=\"block block-system\">\\n\\n      \\n  <div class=\"content\">\\n    <div id=\"node-171\" class=\"node node-post clearfix\" about=\"/project/learning-from-artemisia\" typeof=\"sioc:Item foaf:Document\">\\n\\n  \\n  \\n  <div class=\"content\">\\n    <div class=\"field field-name-field-cat field-type-text field-label-hidden\"><div class=\"field-items\"><div class=\"field-item even\">exhibition</div></div></div><div class=\"field field-name-field-date-top field-type-text field-label-hidden\"><div class=\"field-items\"><div class=\"field-item even\">27/02/20</div></div></div><div class=\"field field-name-field-date-bot field-type-text field-label-hidden\"><div class=\"field-items\"><div class=\"field-item even\">27/06/20</div></div></div><div class=\"field field-name-field-first-title field-type-text field-label-hidden\"><div class=\"field-items\"><div class=\"field-item even\">Learning from Artemisia </div></div></div><div class=\"field field-name-field-sub-title field-type-text field-label-hidden\"><div class=\"field-items\"><div class=\"field-item even\">by Uriel Orlow </div></div></div><div class=\"field field-name-field-imgs field-type-field-collection field-label-hidden\"><div class=\"field-items\"><div class=\"field-item even\"><div id=\"field-slideshow-1-wrapper\" class=\"field-slideshow-wrapper\">\\n\\n  \\n  \\n  \\n  <div class=\"field-slideshow field-slideshow-1 effect-fade timeout-4000 with-pager with-controls\" style=\"width:400px; height:267px\">\\n          <div class=\"field-slideshow-slide field-slideshow-slide-1 even first\">\\n        <img class=\"field-slideshow-image field-slideshow-image-1\" typeof=\"foaf:Image\" src=\"http://la-loge.be/sites/default/files/styles/large/public/images/Learning%20from%20Artemisia%20by%20Uriel%20Olrow%2C%2027%20February%20-%2011%20April%202020%2C%20La%20Loge%20Brussels%2C%20courtesy%20of%20La%20Loge%20and%20Lola%20Pertsowsky%207.jpg?itok=qcdCHHFP\" width=\"400\" height=\"267\" alt=\"\" />                  <div class=\"field-slideshow-caption\">\\n            <span class=\"field-slideshow-caption-text\">Learning from Artemisia by Uriel Olrow, 27 February - 11 April 2020, La Loge Brussels, courtesy of La Loge and Lola Pertsowsky</span>\\n          </div>\\n              </div>\\n          <div class=\"field-slideshow-slide field-slideshow-slide-2 odd\" style=\"display:none;\">\\n        <img class=\"field-slideshow-image field-slideshow-image-2\" typeof=\"foaf:Image\" src=\"http://la-loge.be/sites/default/files/styles/large/public/images/Learning%20from%20Artemisia%20by%20Uriel%20Olrow%2C%2027%20February%20-%2011%20April%202020%2C%20La%20Loge%20Brussels%2C%20courtesy%20of%20La%20Loge%20and%20Lola%20Pertsowsky%204.jpg?itok=ej4J0DJs\" width=\"400\" height=\"267\" alt=\"\" />                  <div class=\"field-slideshow-caption\">\\n            <span class=\"field-slideshow-caption-text\">Learning from Artemisia by Uriel Olrow, 27 February - 11 April 2020, La Loge Brussels, courtesy of La Loge and Lola Pertsowsky</span>\\n          </div>\\n              </div>\\n          <div class=\"field-slideshow-slide field-slideshow-slide-3 even\" style=\"display:none;\">\\n        <img class=\"field-slideshow-image field-slideshow-image-3\" typeof=\"foaf:Image\" src=\"http://la-loge.be/sites/default/files/styles/large/public/images/Learning%20from%20Artemisia%20by%20Uriel%20Olrow%2C%2027%20February%20-%2011%20April%202020%2C%20La%20Loge%20Brussels%2C%20courtesy%20of%20La%20Loge%20and%20Lola%20Pertsowsky%201.jpg?itok=ilC_Lgmt\" width=\"400\" height=\"267\" alt=\"\" />                  <div class=\"field-slideshow-caption\">\\n            <span class=\"field-slideshow-caption-text\">Learning from Artemisia by Uriel Olrow, 27 February - 11 April 2020, La Loge Brussels, courtesy of La Loge and Lola Pertsowsky </span>\\n          </div>\\n              </div>\\n          <div class=\"field-slideshow-slide field-slideshow-slide-4 odd\" style=\"display:none;\">\\n        <img class=\"field-slideshow-image field-slideshow-image-4\" typeof=\"foaf:Image\" src=\"http://la-loge.be/sites/default/files/styles/large/public/images/Learning%20from%20Artemisia%20by%20Uriel%20Olrow%2C%2027%20February%20-%2011%20April%202020%2C%20La%20Loge%20Brussels%2C%20courtesy%20of%20La%20Loge%20and%20Lola%20Pertsowsky%202.jpg?itok=Bafqk-TU\" width=\"400\" height=\"267\" alt=\"\" />                  <div class=\"field-slideshow-caption\">\\n            <span class=\"field-slideshow-caption-text\">Learning from Artemisia by Uriel Olrow, 27 February - 11 April 2020, La Loge Brussels, courtesy of La Loge and Lola Pertsowsky </span>\\n          </div>\\n              </div>\\n          <div class=\"field-slideshow-slide field-slideshow-slide-5 even\" style=\"display:none;\">\\n        <img class=\"field-slideshow-image field-slideshow-image-5\" typeof=\"foaf:Image\" src=\"http://la-loge.be/sites/default/files/styles/large/public/images/Learning%20from%20Artemisia%20by%20Uriel%20Olrow%2C%2027%20February%20-%2011%20April%202020%2C%20La%20Loge%20Brussels%2C%20courtesy%20of%20La%20Loge%20and%20Lola%20Pertsowsky%203.jpg?itok=SbCLSPsw\" width=\"400\" height=\"267\" alt=\"\" />                  <div class=\"field-slideshow-caption\">\\n            <span class=\"field-slideshow-caption-text\">Learning from Artemisia by Uriel Olrow, 27 February - 11 April 2020, La Loge Brussels, courtesy of La Loge and Lola Pertsowsky </span>\\n          </div>\\n              </div>\\n          <div class=\"field-slideshow-slide field-slideshow-slide-6 odd\" style=\"display:none;\">\\n        <img class=\"field-slideshow-image field-slideshow-image-6\" typeof=\"foaf:Image\" src=\"http://la-loge.be/sites/default/files/styles/large/public/images/Learning%20from%20Artemisia%20by%20Uriel%20Olrow%2C%2027%20February%20-%2011%20April%202020%2C%20La%20Loge%20Brussels%2C%20courtesy%20of%20La%20Loge%20and%20Lola%20Pertsowsky%205.jpg?itok=HrHs-i3a\" width=\"400\" height=\"267\" alt=\"\" />                  <div class=\"field-slideshow-caption\">\\n            <span class=\"field-slideshow-caption-text\">Learning from Artemisia by Uriel Olrow, 27 February - 11 April 2020, La Loge Brussels, courtesy of La Loge and Lola Pertsowsky</span>\\n          </div>\\n              </div>\\n          <div class=\"field-slideshow-slide field-slideshow-slide-7 even\" style=\"display:none;\">\\n        <img class=\"field-slideshow-image field-slideshow-image-7\" typeof=\"foaf:Image\" src=\"http://la-loge.be/sites/default/files/styles/large/public/images/Learning%20from%20Artemisia%20by%20Uriel%20Olrow%2C%2027%20February%20-%2011%20April%202020%2C%20La%20Loge%20Brussels%2C%20courtesy%20of%20La%20Loge%20and%20Lola%20Pertsowsky%206.jpg?itok=D-Tmkix6\" width=\"400\" height=\"267\" alt=\"\" />                  <div class=\"field-slideshow-caption\">\\n            <span class=\"field-slideshow-caption-text\">Learning from Artemisia by Uriel Olrow, 27 February - 11 April 2020, La Loge Brussels, courtesy of La Loge and Lola Pertsowsky</span>\\n          </div>\\n              </div>\\n          <div class=\"field-slideshow-slide field-slideshow-slide-8 odd\" style=\"display:none;\">\\n        <img class=\"field-slideshow-image field-slideshow-image-8\" typeof=\"foaf:Image\" src=\"http://la-loge.be/sites/default/files/styles/large/public/images/Learning%20from%20Artemisia%20by%20Uriel%20Olrow%2C%2027%20February%20-%2011%20April%202020%2C%20La%20Loge%20Brussels%2C%20courtesy%20of%20La%20Loge%20and%20Lola%20Pertsowsky%208.jpg?itok=0AOXhcTn\" width=\"400\" height=\"267\" alt=\"\" />                  <div class=\"field-slideshow-caption\">\\n            <span class=\"field-slideshow-caption-text\">Learning from Artemisia by Uriel Olrow, 27 February - 11 April 2020, La Loge Brussels, courtesy of La Loge and Lola Pertsowsky</span>\\n          </div>\\n              </div>\\n          <div class=\"field-slideshow-slide field-slideshow-slide-9 even\" style=\"display:none;\">\\n        <img class=\"field-slideshow-image field-slideshow-image-9\" typeof=\"foaf:Image\" src=\"http://la-loge.be/sites/default/files/styles/large/public/images/Learning%20from%20Artemisia%20by%20Uriel%20Olrow%2C%2027%20February%20-%2011%20April%202020%2C%20La%20Loge%20Brussels%2C%20courtesy%20of%20La%20Loge%20and%20Lola%20Pertsowsky%209.jpg?itok=EPlf58t3\" width=\"400\" height=\"267\" alt=\"\" />                  <div class=\"field-slideshow-caption\">\\n            <span class=\"field-slideshow-caption-text\">Learning from Artemisia by Uriel Olrow, 27 February - 11 April 2020, La Loge Brussels, courtesy of La Loge and Lola Pertsowsky</span>\\n          </div>\\n              </div>\\n          <div class=\"field-slideshow-slide field-slideshow-slide-10 odd\" style=\"display:none;\">\\n        <img class=\"field-slideshow-image field-slideshow-image-10\" typeof=\"foaf:Image\" src=\"http://la-loge.be/sites/default/files/styles/large/public/images/Learning%20from%20Artemisia%20by%20Uriel%20Olrow%2C%2027%20February%20-%2011%20April%202020%2C%20La%20Loge%20Brussels%2C%20courtesy%20of%20La%20Loge%20and%20Lola%20Pertsowsky%2010.jpg?itok=elLSStQR\" width=\"400\" height=\"267\" alt=\"\" />                  <div class=\"field-slideshow-caption\">\\n            <span class=\"field-slideshow-caption-text\">Learning from Artemisia by Uriel Olrow, 27 February - 11 April 2020, La Loge Brussels, courtesy of La Loge and Lola Pertsowsky</span>\\n          </div>\\n              </div>\\n          <div class=\"field-slideshow-slide field-slideshow-slide-11 even last\" style=\"display:none;\">\\n        <img class=\"field-slideshow-image field-slideshow-image-11\" typeof=\"foaf:Image\" src=\"http://la-loge.be/sites/default/files/styles/large/public/images/Learning%20from%20Artemisia%20by%20Uriel%20Olrow%2C%2027%20February%20-%2011%20April%202020%2C%20La%20Loge%20Brussels%2C%20courtesy%20of%20La%20Loge%20and%20Lola%20Pertsowsky%2011.jpg?itok=ZXydEiM6\" width=\"400\" height=\"267\" alt=\"\" />                  <div class=\"field-slideshow-caption\">\\n            <span class=\"field-slideshow-caption-text\">Learning from Artemisia by Uriel Olrow, 27 February - 11 April 2020, La Loge Brussels, courtesy of La Loge and Lola Pertsowsky</span>\\n          </div>\\n              </div>\\n      </div>\\n\\n  \\n  \\n</div>\\n</div></div></div><div class=\"field field-name-field-text field-type-text-long field-label-hidden\"><div class=\"field-items\"><div class=\"field-item even\"><p style=\"margin-top: 0.5em; margin-bottom: 0.9em; color: rgb(0, 0, 0); font-family: courier, Arial, Helvetica, sans-serif;\">\\n\\t<strong>La Loge takes preventive measures with regards to COVID-19</strong></p>\\n<p>\\tLa Loge makes the safety, health and well-being of all our visitors its number one priority. Therefore we would like to inform you regarding additional measures we are taking.<br />\\n\\tTo comply with the directive, as announced by the National Security Council on Thursday evening, the exhibition of Uriel Orlow at La Loge will be closed and all events will be postponed through at least April 3rd.<br />\\n\\tWe will inform you about our updated programme as soon as we have more insight into how the situation evolves.<br />\\n\\tIf you have any further questions please contact us via <a href=\"mailto:info@la-loge.be\">info@la-loge.be</a></p>\\n<p>\\tWishing you all the best of health.</p>\\n<p>\\t<span style=\"color: rgb(34, 34, 34); font-family: Arial, Verdana, sans-serif;\">\\xa0<br />\\n\\t***</span><br /><strong>opening</strong><br />\\n\\tWednesday, 26 February 2020<br />\\n\\t18:00 to 21:00<br />\\n\\t\\xa0<br /><strong>exhibition</strong><br />\\n\\t27/02/20 – 27/06/20<br />\\n\\t\\xa0<br /><strong>opening hours</strong><br />\\n\\tThursday – Saturday<br />\\n\\t12:00 to 18:00<br />\\n\\t\\xa0</p>\\n<p>\\t<strong>about the exhibition </strong></p>\\n<p>\\t\\xa0<br />\\n\\tIn his multidisciplinary and process-oriented work, Uriel Orlow uses the world of botany as a lens through which he explores the socio-political, economic and spiritual ramifications of colonization and the postcolonial. Often departing from specific sites and micro-histories, Orlow uses different image-regimes and narrative modes to bring to the fore historical and contemporary blind spots of representation and transmission.</p>\\n<p>\\tIn <em>Learning from Artemisia </em>at La Loge, Orlow explores plant healing and global power relations through Artemisia afra, the African wormwood, an indigenous medicinal plant cultivated in the Democratic Republic of the Congo, alongside other African countries, and used for the treatment of malaria. Despite its proven effectiveness and simplicity, the World Health Organization does not recommend the use of this plant material, in any form, including tea, for the treatment or the prevention of malaria. Meanwhile the pharmaceutical industry derives large revenues from using the active ingredient ‘artemisinin’ from the related annual wormwood plant to produce antimalarial medication. Combining films and documentation from his work with a women’s cooperative in Lumata (south of Lubumbashi) with archival materials from the Royal Museum for Central Africa in Tervuren and a selection of related recent work, the artist traces the history of malaria to extractive capitalism, while highlighting the benefits of a collaborative economy.</p>\\n<p>\\tCurated by Laura Herman</p>\\n<p>\\tThis exhibition is supported by Pro Helvetia.\\xa0</p>\\n<p>\\n\\t<img alt=\"\" src=\"/sites/default/files/interface/logo_magenta_neutral_0.jpg\" style=\"width: 150px; height: 24px;\" /><br />\\n\\t\\xa0</p>\\n<p><u><strong>about the artist</strong></u></p>\\n<p>About the artist Uriel Orlow lives and works between London and Lisbon. He studied at Central Saint Martins College of Art &amp; Design London, the Slade School of Art, University College London and the University of Geneva, completing a PhD in Fine Art in 2002. Orlow’s work is presented widely in galleries, museums, film festivals and international survey shows including 6th Lubumbashi Biennale (2019), Manifesta 12, Palermo (2018), 2nd Yinchuan Biennial (2018), 13th Sharjah Biennial 13 (2017), 7th Moscow Biennial (2017), EVA International, Limerick (2016), 2nd Aichi Triennale, Nagoya (2013), Bergen Assembly (2013), Manifesta 9 (2012), 54th Venice Biennale (2011).</p>\\n<p>Recent solo exhibitions include Kunsthalle Mainz (2019); Les Laboratoires d’Aubervilliers, Paris (2018); Market Photo Workshop &amp; Pool, Johannesburg (2018); Kunsthalle St Gallen (2018); PAV – Parco Arte Vivente (2017);\\xa0 Parc Saint Léger (2017), The Showroom, London (2016); Castello di Rivoli, Turin (2015); John Hansard Gallery, Southampton (2015); Depo, Istanbul (2015), Spike Island, Bristol (2013). In 2018 Sternberg Press published the major monograph Theatrum Botanicum and in 2019 Shelter Press published the monograph Soil Affinities.</p>\\n<p>Orlow is visiting professor at the Royal College of Art London and is currently Reader (associate professor and senior researcher) at University of Westminster, London and lecturer at ZHdK, the University of the Arts, Zurich</p>\\n<style type=\"text/css\">\\n<!--/*--><![CDATA[/* ><!--*/\\n\\np.p1 {margin: 0.0px 0.0px 0.0px 0.0px; font: 10.0px Helvetica}\\n/*--><!]]>*/\\n</style></div></div></div><div class=\"field field-name-field-files field-type-file field-label-hidden\"><div class=\"field-items\"><div class=\"field-item even\"><span class=\"file\"><img class=\"file-icon\" alt=\"PDF icon\" title=\"application/pdf\" src=\"/modules/file/icons/application-pdf.png\" /> <a href=\"http://la-loge.be/sites/default/files/attached-files/Uriel%20Orlow_exhibition%20text_EN.pdf\" type=\"application/pdf; length=170786\" title=\"Uriel Orlow_exhibition text_EN.pdf\">exhibition guide Uriel Orlow ENG</a></span></div><div class=\"field-item odd\"><span class=\"file\"><img class=\"file-icon\" alt=\"PDF icon\" title=\"application/pdf\" src=\"/modules/file/icons/application-pdf.png\" /> <a href=\"http://la-loge.be/sites/default/files/attached-files/Uriel%20Orlow_exhibition%20text_FR.pdf\" type=\"application/pdf; length=163759\" title=\"Uriel Orlow_exhibition text_FR.pdf\">exhibition guide Uriel Orlow FR</a></span></div><div class=\"field-item even\"><span class=\"file\"><img class=\"file-icon\" alt=\"PDF icon\" title=\"application/pdf\" src=\"/modules/file/icons/application-pdf.png\" /> <a href=\"http://la-loge.be/sites/default/files/attached-files/Uriel%20Orlow_exhibition%20text_NL.pdf\" type=\"application/pdf; length=183569\" title=\"Uriel Orlow_exhibition text_NL.pdf\">exhibition guide Uriel Orlow NL</a></span></div></div></div>  </div>\\n  \\n  \\n</div>\\n  </div>\\n</div>\\n<div id=\"block-block-12\" class=\"block block-block\">\\n\\n      \\n  <div class=\"content\">\\n    <p><a href=\"http://la-loge.be/newsletter-subscription\">Subscribe to <br />newsletter</a></p>\\n  </div>\\n</div>\\n<div id=\"block-block-13\" class=\"block block-block\">\\n\\n      \\n  <div class=\"content\">\\n    <p><a href=\"http://www.facebook.com/pages/La-Loge/131629530313655\" title=\"La Loge on Facebook\"><img src=\"http://www.la-loge.be/sites/default/files/facebook.png\" height=\"16\" width=\"16\" /></a></p>\\n  </div>\\n</div>\\n<div id=\"block-search-form\" class=\"block block-search\">\\n\\n      \\n  <div class=\"content\">\\n    <form action=\"/\" method=\"post\" id=\"search-block-form\" accept-charset=\"UTF-8\"><div><div class=\"container-inline\">\\n      <h2 class=\"element-invisible\">Search form</h2>\\n    <div class=\"form-item form-type-textfield form-item-search-block-form\">\\n  <label class=\"element-invisible\" for=\"edit-search-block-form--2\">Search </label>\\n <input title=\"Enter the terms you wish to search for.\" type=\"text\" id=\"edit-search-block-form--2\" name=\"search_block_form\" value=\"\" size=\"15\" maxlength=\"128\" class=\"form-text\" />\\n</div>\\n<div class=\"form-actions form-wrapper\" id=\"edit-actions\"><input type=\"submit\" id=\"edit-submit\" name=\"op\" value=\"Search\" class=\"form-submit\" /></div><input type=\"hidden\" name=\"form_build_id\" value=\"form-_b25mzktsE3yMzEgFjROOVyQ-q2al2gLXvLjqGBcTmE\" />\\n<input type=\"hidden\" name=\"form_id\" value=\"search_block_form\" />\\n</div>\\n</div></form>  </div>\\n</div>\\n  </div>\\n    </div>\\n    <div id=\"column2\">\\n        <div class=\"region region-content2\">\\n    <div id=\"block-views-related-events-block\" class=\"block block-views\">\\n\\n      \\n  <div class=\"content\">\\n    <div class=\"view view-related-events view-id-related_events view-display-id-block view-dom-id-0a7f2618e6c665d2079674116d46bf7b\">\\n        \\n  \\n  \\n      <div class=\"view-content\">\\n        <div class=\"views-row views-row-1 views-row-odd views-row-first views-row-last\">\\n      \\n  <div>        <div class=\"cat\">tour</div>  </div>  \\n  <div>        <div class=\"line\"><br /></div>  </div>  \\n  <div>        <div class=\"date-top\"> 14/03/20</div>  </div>  \\n  <div>        <div class=\"date-bot\">3pm</div>  </div>  \\n  <div class=\"views-field views-field-field-illu\">        <div class=\"field-content related-illu\"><a href=\"/event/through-the-eyes-of-laura-herman\"><img typeof=\"foaf:Image\" src=\"http://la-loge.be/sites/default/files/styles/medium/public/illustrations/Learning%20from%20Artemisia%20by%20Uriel%20Olrow%2C%2027%20February%20-%2011%20April%202020%2C%20La%20Loge%20Brussels%2C%20courtesy%20of%20La%20Loge%20and%20Lola%20Pertsowsky%204.jpg?itok=tNMiUSzC\" width=\"186\" height=\"124\" alt=\"\" /></a></div>  </div>  \\n  <div>        <div class=\"related-text\"><p><strong>The guided tour will be postponed until further notice due to the preventive measures taken by La Loge with regards to COVID-19.</strong></p>\\n<p>Through the Eyes...</div>  </div>  \\n  <div>        <div class=\"read-more\"><a href=\"/event/through-the-eyes-of-laura-herman\">read more</a></div>  </div>  </div>\\n    </div>\\n  \\n  \\n  \\n  \\n  \\n  \\n</div>  </div>\\n</div>\\n  </div>\\n    </div>\\n</div>\\n<div id=\"footer\">\\n    <div class=\"region region-footer\">\\n    <div id=\"block-block-14\" class=\"block block-block\">\\n\\n      \\n  <div class=\"content\">\\n    <p>\\n\\t<span>La Loge is supported by Flanders State of the Art and the Flemish Community Commission (Vlaamse Gemeenschapscommissie - VGC).</span></p>\\n<p><img alt=\"\" src=\"/sites/default/files/interface/FLANDERS_STATEOFTHEARTS.jpg\" style=\"height: 60px; width: 146px;\" />\\xa0\\xa0<img alt=\"\" src=\"/sites/default/files/interface/cultuur-brussel.jpg\" style=\"height: 60px; width: auto;\" /></p>\\n  </div>\\n</div>\\n  </div>\\n</div>\\n</div>\\n  </body>\\n</html>\\n'"
            ]
          },
          "metadata": {
            "tags": []
          },
          "execution_count": 44
        }
      ]
    },
    {
      "cell_type": "markdown",
      "metadata": {
        "id": "XEjwBiVqQ-ws",
        "colab_type": "text"
      },
      "source": [
        "si on veut les balises \"p\" de la page: \n",
        "\n",
        "\n"
      ]
    },
    {
      "cell_type": "code",
      "metadata": {
        "id": "jTBFkkYYNnQl",
        "colab_type": "code",
        "outputId": "23e476b3-cc23-4c2a-876e-f91209d8f9a2",
        "colab": {
          "base_uri": "https://localhost:8080/",
          "height": 824
        }
      },
      "source": [
        "import bs4\n",
        "soup = bs4.BeautifulSoup(response.text, 'lxml')\n",
        "em_box = soup.find_all(\"p\")\n",
        "\n",
        "em_box"
      ],
      "execution_count": 0,
      "outputs": [
        {
          "output_type": "execute_result",
          "data": {
            "text/plain": [
              "[<p><br/></p>,\n",
              " <p>\t </p>,\n",
              " <p style=\"position:absolute; color:#66ec85;  font-weight: normal; background-color: #fff; padding-bottom: 1em; margin-top: 3.8em; padding-top:1em;\">\n",
              " \t </p>,\n",
              " <p><a href=\"http://la-loge.be\"><br/><img src=\"http://la-loge.be/sites/default/files/logos/logo-project.png\"/><br/></a></p>,\n",
              " <p style=\"margin-top: 0.5em; margin-bottom: 0.9em; color: rgb(0, 0, 0); font-family: courier, Arial, Helvetica, sans-serif;\">\n",
              " <strong>La Loge takes preventive measures with regards to COVID-19</strong></p>,\n",
              " <p>\tLa Loge makes the safety, health and well-being of all our visitors its number one priority. Therefore we would like to inform you regarding additional measures we are taking.<br/>\n",
              " \tTo comply with the directive, as announced by the National Security Council on Thursday evening, the exhibition of Uriel Orlow at La Loge will be closed and all events will be postponed through at least April 3rd.<br/>\n",
              " \tWe will inform you about our updated programme as soon as we have more insight into how the situation evolves.<br/>\n",
              " \tIf you have any further questions please contact us via <a href=\"mailto:info@la-loge.be\">info@la-loge.be</a></p>,\n",
              " <p>\tWishing you all the best of health.</p>,\n",
              " <p> <span style=\"color: rgb(34, 34, 34); font-family: Arial, Verdana, sans-serif;\"> <br/>\n",
              " \t***</span><br/><strong>opening</strong><br/>\n",
              " \tWednesday, 26 February 2020<br/>\n",
              " \t18:00 to 21:00<br/>\n",
              " \t <br/><strong>exhibition</strong><br/>\n",
              " \t27/02/20 – 27/06/20<br/>\n",
              " \t <br/><strong>opening hours</strong><br/>\n",
              " \tThursday – Saturday<br/>\n",
              " \t12:00 to 18:00<br/>\n",
              " \t </p>,\n",
              " <p> <strong>about the exhibition </strong></p>,\n",
              " <p>\t <br/>\n",
              " \tIn his multidisciplinary and process-oriented work, Uriel Orlow uses the world of botany as a lens through which he explores the socio-political, economic and spiritual ramifications of colonization and the postcolonial. Often departing from specific sites and micro-histories, Orlow uses different image-regimes and narrative modes to bring to the fore historical and contemporary blind spots of representation and transmission.</p>,\n",
              " <p>\tIn <em>Learning from Artemisia </em>at La Loge, Orlow explores plant healing and global power relations through Artemisia afra, the African wormwood, an indigenous medicinal plant cultivated in the Democratic Republic of the Congo, alongside other African countries, and used for the treatment of malaria. Despite its proven effectiveness and simplicity, the World Health Organization does not recommend the use of this plant material, in any form, including tea, for the treatment or the prevention of malaria. Meanwhile the pharmaceutical industry derives large revenues from using the active ingredient ‘artemisinin’ from the related annual wormwood plant to produce antimalarial medication. Combining films and documentation from his work with a women’s cooperative in Lumata (south of Lubumbashi) with archival materials from the Royal Museum for Central Africa in Tervuren and a selection of related recent work, the artist traces the history of malaria to extractive capitalism, while highlighting the benefits of a collaborative economy.</p>,\n",
              " <p>\tCurated by Laura Herman</p>,\n",
              " <p>\tThis exhibition is supported by Pro Helvetia. </p>,\n",
              " <p>\n",
              " <img alt=\"\" src=\"/sites/default/files/interface/logo_magenta_neutral_0.jpg\" style=\"width: 150px; height: 24px;\"/><br/>\n",
              " \t </p>,\n",
              " <p><u><strong>about the artist</strong></u></p>,\n",
              " <p>About the artist Uriel Orlow lives and works between London and Lisbon. He studied at Central Saint Martins College of Art &amp; Design London, the Slade School of Art, University College London and the University of Geneva, completing a PhD in Fine Art in 2002. Orlow’s work is presented widely in galleries, museums, film festivals and international survey shows including 6th Lubumbashi Biennale (2019), Manifesta 12, Palermo (2018), 2nd Yinchuan Biennial (2018), 13th Sharjah Biennial 13 (2017), 7th Moscow Biennial (2017), EVA International, Limerick (2016), 2nd Aichi Triennale, Nagoya (2013), Bergen Assembly (2013), Manifesta 9 (2012), 54th Venice Biennale (2011).</p>,\n",
              " <p>Recent solo exhibitions include Kunsthalle Mainz (2019); Les Laboratoires d’Aubervilliers, Paris (2018); Market Photo Workshop &amp; Pool, Johannesburg (2018); Kunsthalle St Gallen (2018); PAV – Parco Arte Vivente (2017);  Parc Saint Léger (2017), The Showroom, London (2016); Castello di Rivoli, Turin (2015); John Hansard Gallery, Southampton (2015); Depo, Istanbul (2015), Spike Island, Bristol (2013). In 2018 Sternberg Press published the major monograph Theatrum Botanicum and in 2019 Shelter Press published the monograph Soil Affinities.</p>,\n",
              " <p>Orlow is visiting professor at the Royal College of Art London and is currently Reader (associate professor and senior researcher) at University of Westminster, London and lecturer at ZHdK, the University of the Arts, Zurich</p>,\n",
              " <p><a href=\"http://la-loge.be/newsletter-subscription\">Subscribe to <br/>newsletter</a></p>,\n",
              " <p><a href=\"http://www.facebook.com/pages/La-Loge/131629530313655\" title=\"La Loge on Facebook\"><img height=\"16\" src=\"http://www.la-loge.be/sites/default/files/facebook.png\" width=\"16\"/></a></p>,\n",
              " <p><strong>The guided tour will be postponed until further notice due to the preventive measures taken by La Loge with regards to COVID-19.</strong></p>,\n",
              " <p>Through the Eyes...</p>,\n",
              " <p>\n",
              " <span>La Loge is supported by Flanders State of the Art and the Flemish Community Commission (Vlaamse Gemeenschapscommissie - VGC).</span></p>,\n",
              " <p><img alt=\"\" src=\"/sites/default/files/interface/FLANDERS_STATEOFTHEARTS.jpg\" style=\"height: 60px; width: 146px;\"/>  <img alt=\"\" src=\"/sites/default/files/interface/cultuur-brussel.jpg\" style=\"height: 60px; width: auto;\"/></p>]"
            ]
          },
          "metadata": {
            "tags": []
          },
          "execution_count": 20
        }
      ]
    },
    {
      "cell_type": "code",
      "metadata": {
        "id": "OaK5gsAEORQ1",
        "colab_type": "code",
        "outputId": "cb824106-ef9a-4fb3-bbad-ec920e925b97",
        "colab": {
          "base_uri": "https://localhost:8080/",
          "height": 56
        }
      },
      "source": [
        "import re\n",
        "\n",
        "soup = bs4.BeautifulSoup(response.text, 'lxml').text\n",
        "text = soup\n",
        "re.sub('<[^<]+?>', '', text)\n"
      ],
      "execution_count": 0,
      "outputs": [
        {
          "output_type": "execute_result",
          "data": {
            "text/plain": [
              "'\\n\\n\\n\\n\\n\\n\\nLearning from Artemisia | la loge\\n\\n\\n\\n\\n\\n\\n\\n\\n\\n\\n\\n\\n\\nSkip to main content\\n\\n\\n\\n\\n\\n \\n\\nAboutla loge\\nbuilding\\nteam\\nrent la loge\\n\\nProjectscurrent\\npast\\nfuture\\n\\nEventscurrent\\nPast\\nfuture\\n\\nEditionsworks\\npublications\\n\\nContactLa Loge\\nnewsletter\\nPress\\n\\n \\n\\n\\n\\n\\n\\n\\n\\n\\n\\n\\tKluisstraat - rue de l’Ermitage 86\\n\\tB-1050 Brussels\\n\\t\\xa0\\n\\n\\t\\xa0\\n\\n\\n\\n\\n\\n\\n\\n\\n\\n\\n\\n \\n\\n\\n\\n\\n\\n\\nexhibition27/02/2027/06/20Learning from Artemisia by Uriel Orlow \\n\\n\\n \\nLearning from Artemisia by Uriel Olrow, 27 February - 11 April 2020, La Loge Brussels, courtesy of La Loge and Lola Pertsowsky\\n\\n\\n\\n \\nLearning from Artemisia by Uriel Olrow, 27 February - 11 April 2020, La Loge Brussels, courtesy of La Loge and Lola Pertsowsky\\n\\n\\n\\n \\nLearning from Artemisia by Uriel Olrow, 27 February - 11 April 2020, La Loge Brussels, courtesy of La Loge and Lola Pertsowsky \\n\\n\\n\\n \\nLearning from Artemisia by Uriel Olrow, 27 February - 11 April 2020, La Loge Brussels, courtesy of La Loge and Lola Pertsowsky \\n\\n\\n\\n \\nLearning from Artemisia by Uriel Olrow, 27 February - 11 April 2020, La Loge Brussels, courtesy of La Loge and Lola Pertsowsky \\n\\n\\n\\n \\nLearning from Artemisia by Uriel Olrow, 27 February - 11 April 2020, La Loge Brussels, courtesy of La Loge and Lola Pertsowsky\\n\\n\\n\\n \\nLearning from Artemisia by Uriel Olrow, 27 February - 11 April 2020, La Loge Brussels, courtesy of La Loge and Lola Pertsowsky\\n\\n\\n\\n \\nLearning from Artemisia by Uriel Olrow, 27 February - 11 April 2020, La Loge Brussels, courtesy of La Loge and Lola Pertsowsky\\n\\n\\n\\n \\nLearning from Artemisia by Uriel Olrow, 27 February - 11 April 2020, La Loge Brussels, courtesy of La Loge and Lola Pertsowsky\\n\\n\\n\\n \\nLearning from Artemisia by Uriel Olrow, 27 February - 11 April 2020, La Loge Brussels, courtesy of La Loge and Lola Pertsowsky\\n\\n\\n\\n \\nLearning from Artemisia by Uriel Olrow, 27 February - 11 April 2020, La Loge Brussels, courtesy of La Loge and Lola Pertsowsky\\n\\n\\n\\n\\n\\nLa Loge takes preventive measures with regards to COVID-19\\n\\tLa Loge makes the safety, health and well-being of all our visitors its number one priority. Therefore we would like to inform you regarding additional measures we are taking.\\n\\tTo comply with the directive, as announced by the National Security Council on Thursday evening, the exhibition of Uriel Orlow at La Loge will be closed and all events will be postponed through at least April 3rd.\\n\\tWe will inform you about our updated programme as soon as we have more insight into how the situation evolves.\\n\\tIf you have any further questions please contact us via info@la-loge.be\\n\\tWishing you all the best of health.\\n \\xa0\\n\\t***opening\\n\\tWednesday, 26 February 2020\\n\\t18:00 to 21:00\\n\\t\\xa0exhibition\\n\\t27/02/20 – 27/06/20\\n\\t\\xa0opening hours\\n\\tThursday – Saturday\\n\\t12:00 to 18:00\\n\\t\\xa0\\n about the exhibition \\n\\t\\xa0\\n\\tIn his multidisciplinary and process-oriented work, Uriel Orlow uses the world of botany as a lens through which he explores the socio-political, economic and spiritual ramifications of colonization and the postcolonial. Often departing from specific sites and micro-histories, Orlow uses different image-regimes and narrative modes to bring to the fore historical and contemporary blind spots of representation and transmission.\\n\\tIn Learning from Artemisia at La Loge, Orlow explores plant healing and global power relations through Artemisia afra, the African wormwood, an indigenous medicinal plant cultivated in the Democratic Republic of the Congo, alongside other African countries, and used for the treatment of malaria. Despite its proven effectiveness and simplicity, the World Health Organization does not recommend the use of this plant material, in any form, including tea, for the treatment or the prevention of malaria. Meanwhile the pharmaceutical industry derives large revenues from using the active ingredient ‘artemisinin’ from the related annual wormwood plant to produce antimalarial medication. Combining films and documentation from his work with a women’s cooperative in Lumata (south of Lubumbashi) with archival materials from the Royal Museum for Central Africa in Tervuren and a selection of related recent work, the artist traces the history of malaria to extractive capitalism, while highlighting the benefits of a collaborative economy.\\n\\tCurated by Laura Herman\\n\\tThis exhibition is supported by Pro Helvetia.\\xa0\\n\\n\\n\\t\\xa0\\nabout the artist\\nAbout the artist Uriel Orlow lives and works between London and Lisbon. He studied at Central Saint Martins College of Art & Design London, the Slade School of Art, University College London and the University of Geneva, completing a PhD in Fine Art in 2002. Orlow’s work is presented widely in galleries, museums, film festivals and international survey shows including 6th Lubumbashi Biennale (2019), Manifesta 12, Palermo (2018), 2nd Yinchuan Biennial (2018), 13th Sharjah Biennial 13 (2017), 7th Moscow Biennial (2017), EVA International, Limerick (2016), 2nd Aichi Triennale, Nagoya (2013), Bergen Assembly (2013), Manifesta 9 (2012), 54th Venice Biennale (2011).\\nRecent solo exhibitions include Kunsthalle Mainz (2019); Les Laboratoires d’Aubervilliers, Paris (2018); Market Photo Workshop & Pool, Johannesburg (2018); Kunsthalle St Gallen (2018); PAV – Parco Arte Vivente (2017);\\xa0 Parc Saint Léger (2017), The Showroom, London (2016); Castello di Rivoli, Turin (2015); John Hansard Gallery, Southampton (2015); Depo, Istanbul (2015), Spike Island, Bristol (2013). In 2018 Sternberg Press published the major monograph Theatrum Botanicum and in 2019 Shelter Press published the monograph Soil Affinities.\\nOrlow is visiting professor at the Royal College of Art London and is currently Reader (associate professor and senior researcher) at University of Westminster, London and lecturer at ZHdK, the University of the Arts, Zurich\\n\\n*/\\n exhibition guide Uriel Orlow ENG exhibition guide Uriel Orlow FR exhibition guide Uriel Orlow NL \\n\\n\\n\\n\\n\\nSubscribe to newsletter\\n\\n\\n\\n\\n\\n\\n\\n\\n\\n\\nSearch form\\n\\nSearch \\n\\n\\n\\n\\n\\n \\n\\n\\n\\n\\n\\n\\n\\n\\n\\n\\n tour \\n  \\n  14/03/20 \\n 3pm \\n  \\n The guided tour will be postponed until further notice due to the preventive measures taken by La Loge with regards to COVID-19.\\nThrough the Eyes... \\n read more  \\n\\n \\n\\n\\n\\n\\n\\n\\n\\n\\n\\nLa Loge is supported by Flanders State of the Art and the Flemish Community Commission (Vlaamse Gemeenschapscommissie - VGC).\\n\\xa0\\xa0\\n\\n\\n\\n\\n\\n\\n\\n'"
            ]
          },
          "metadata": {
            "tags": []
          },
          "execution_count": 21
        }
      ]
    },
    {
      "cell_type": "code",
      "metadata": {
        "id": "suaDnzkoOmJW",
        "colab_type": "code",
        "outputId": "c5d77dc0-a8f6-4d69-d38c-49796ccc7542",
        "colab": {
          "base_uri": "https://localhost:8080/",
          "height": 56
        }
      },
      "source": [
        "sansLesAlinea=re.sub('\\n', ' ', text)\n",
        "sansLesBalises=re.sub('<[^<]+?>', '', sansLesAlinea)\n",
        "sansLesT=re.sub('\\t', ' ', sansLesBalises)\n",
        "Propre=re.sub('\\xa0',' ',sansLesT)\n",
        "Propre"
      ],
      "execution_count": 0,
      "outputs": [
        {
          "output_type": "execute_result",
          "data": {
            "text/plain": [
              "'       Learning from Artemisia | la loge              Skip to main content         Aboutla loge building team rent la loge  Projectscurrent past future  Eventscurrent Past future  Editionsworks publications  ContactLa Loge newsletter Press              Kluisstraat - rue de l’Ermitage 86  B-1050 Brussels                           exhibition27/02/2027/06/20Learning from Artemisia by Uriel Orlow      Learning from Artemisia by Uriel Olrow, 27 February - 11 April 2020, La Loge Brussels, courtesy of La Loge and Lola Pertsowsky      Learning from Artemisia by Uriel Olrow, 27 February - 11 April 2020, La Loge Brussels, courtesy of La Loge and Lola Pertsowsky      Learning from Artemisia by Uriel Olrow, 27 February - 11 April 2020, La Loge Brussels, courtesy of La Loge and Lola Pertsowsky       Learning from Artemisia by Uriel Olrow, 27 February - 11 April 2020, La Loge Brussels, courtesy of La Loge and Lola Pertsowsky       Learning from Artemisia by Uriel Olrow, 27 February - 11 April 2020, La Loge Brussels, courtesy of La Loge and Lola Pertsowsky       Learning from Artemisia by Uriel Olrow, 27 February - 11 April 2020, La Loge Brussels, courtesy of La Loge and Lola Pertsowsky      Learning from Artemisia by Uriel Olrow, 27 February - 11 April 2020, La Loge Brussels, courtesy of La Loge and Lola Pertsowsky      Learning from Artemisia by Uriel Olrow, 27 February - 11 April 2020, La Loge Brussels, courtesy of La Loge and Lola Pertsowsky      Learning from Artemisia by Uriel Olrow, 27 February - 11 April 2020, La Loge Brussels, courtesy of La Loge and Lola Pertsowsky      Learning from Artemisia by Uriel Olrow, 27 February - 11 April 2020, La Loge Brussels, courtesy of La Loge and Lola Pertsowsky      Learning from Artemisia by Uriel Olrow, 27 February - 11 April 2020, La Loge Brussels, courtesy of La Loge and Lola Pertsowsky      La Loge takes preventive measures with regards to COVID-19  La Loge makes the safety, health and well-being of all our visitors its number one priority. Therefore we would like to inform you regarding additional measures we are taking.  To comply with the directive, as announced by the National Security Council on Thursday evening, the exhibition of Uriel Orlow at La Loge will be closed and all events will be postponed through at least April 3rd.  We will inform you about our updated programme as soon as we have more insight into how the situation evolves.  If you have any further questions please contact us via info@la-loge.be  Wishing you all the best of health.     ***opening  Wednesday, 26 February 2020  18:00 to 21:00   exhibition  27/02/20 – 27/06/20   opening hours  Thursday – Saturday  12:00 to 18:00     about the exhibition      In his multidisciplinary and process-oriented work, Uriel Orlow uses the world of botany as a lens through which he explores the socio-political, economic and spiritual ramifications of colonization and the postcolonial. Often departing from specific sites and micro-histories, Orlow uses different image-regimes and narrative modes to bring to the fore historical and contemporary blind spots of representation and transmission.  In Learning from Artemisia at La Loge, Orlow explores plant healing and global power relations through Artemisia afra, the African wormwood, an indigenous medicinal plant cultivated in the Democratic Republic of the Congo, alongside other African countries, and used for the treatment of malaria. Despite its proven effectiveness and simplicity, the World Health Organization does not recommend the use of this plant material, in any form, including tea, for the treatment or the prevention of malaria. Meanwhile the pharmaceutical industry derives large revenues from using the active ingredient ‘artemisinin’ from the related annual wormwood plant to produce antimalarial medication. Combining films and documentation from his work with a women’s cooperative in Lumata (south of Lubumbashi) with archival materials from the Royal Museum for Central Africa in Tervuren and a selection of related recent work, the artist traces the history of malaria to extractive capitalism, while highlighting the benefits of a collaborative economy.  Curated by Laura Herman  This exhibition is supported by Pro Helvetia.       about the artist About the artist Uriel Orlow lives and works between London and Lisbon. He studied at Central Saint Martins College of Art & Design London, the Slade School of Art, University College London and the University of Geneva, completing a PhD in Fine Art in 2002. Orlow’s work is presented widely in galleries, museums, film festivals and international survey shows including 6th Lubumbashi Biennale (2019), Manifesta 12, Palermo (2018), 2nd Yinchuan Biennial (2018), 13th Sharjah Biennial 13 (2017), 7th Moscow Biennial (2017), EVA International, Limerick (2016), 2nd Aichi Triennale, Nagoya (2013), Bergen Assembly (2013), Manifesta 9 (2012), 54th Venice Biennale (2011). Recent solo exhibitions include Kunsthalle Mainz (2019); Les Laboratoires d’Aubervilliers, Paris (2018); Market Photo Workshop & Pool, Johannesburg (2018); Kunsthalle St Gallen (2018); PAV – Parco Arte Vivente (2017);  Parc Saint Léger (2017), The Showroom, London (2016); Castello di Rivoli, Turin (2015); John Hansard Gallery, Southampton (2015); Depo, Istanbul (2015), Spike Island, Bristol (2013). In 2018 Sternberg Press published the major monograph Theatrum Botanicum and in 2019 Shelter Press published the monograph Soil Affinities. Orlow is visiting professor at the Royal College of Art London and is currently Reader (associate professor and senior researcher) at University of Westminster, London and lecturer at ZHdK, the University of the Arts, Zurich  */  exhibition guide Uriel Orlow ENG exhibition guide Uriel Orlow FR exhibition guide Uriel Orlow NL       Subscribe to newsletter           Search form  Search                    tour       14/03/20   3pm      The guided tour will be postponed until further notice due to the preventive measures taken by La Loge with regards to COVID-19. Through the Eyes...   read more               La Loge is supported by Flanders State of the Art and the Flemish Community Commission (Vlaamse Gemeenschapscommissie - VGC).           '"
            ]
          },
          "metadata": {
            "tags": []
          },
          "execution_count": 52
        }
      ]
    },
    {
      "cell_type": "markdown",
      "metadata": {
        "id": "JCeRWje9SK5y",
        "colab_type": "text"
      },
      "source": [
        "https://medium.com/france-school-of-ai/web-scraping-avec-python-apprenez-%C3%A0-utiliser-beautifulsoup-proxies-et-un-faux-user-agent-d7bfb66b6556\n",
        "\n",
        "https://webdevdesigner.com/q/python-code-to-remove-html-tags-from-a-string-duplicate-66283/\n",
        "\n"
      ]
    },
    {
      "cell_type": "markdown",
      "metadata": {
        "id": "4pbBe-ZgxRcI",
        "colab_type": "text"
      },
      "source": [
        "ajout d'une colonne dans le dataframe avce le texte"
      ]
    },
    {
      "cell_type": "code",
      "metadata": {
        "id": "Cpyy0WwPxNld",
        "colab_type": "code",
        "outputId": "4046b191-6b3a-47db-efa8-5855545940ca",
        "colab": {
          "base_uri": "https://localhost:8080/",
          "height": 243
        }
      },
      "source": [
        "df['parapheWeb']=1\n",
        "df['parapheWeb'][0]=Propre\n",
        "len(df['parapheWeb'][0])"
      ],
      "execution_count": 0,
      "outputs": [
        {
          "output_type": "stream",
          "text": [
            "/usr/local/lib/python3.6/dist-packages/ipykernel_launcher.py:2: SettingWithCopyWarning: \n",
            "A value is trying to be set on a copy of a slice from a DataFrame\n",
            "\n",
            "See the caveats in the documentation: https://pandas.pydata.org/pandas-docs/stable/user_guide/indexing.html#returning-a-view-versus-a-copy\n",
            "  \n",
            "/usr/local/lib/python3.6/dist-packages/pandas/core/indexing.py:671: SettingWithCopyWarning: \n",
            "A value is trying to be set on a copy of a slice from a DataFrame\n",
            "\n",
            "See the caveats in the documentation: https://pandas.pydata.org/pandas-docs/stable/user_guide/indexing.html#returning-a-view-versus-a-copy\n",
            "  self._setitem_with_indexer(indexer, value)\n"
          ],
          "name": "stderr"
        },
        {
          "output_type": "execute_result",
          "data": {
            "text/plain": [
              "6228"
            ]
          },
          "metadata": {
            "tags": []
          },
          "execution_count": 59
        }
      ]
    },
    {
      "cell_type": "code",
      "metadata": {
        "id": "weDuL0KNxPSg",
        "colab_type": "code",
        "outputId": "3779c60f-ef0f-44a5-8ae3-c9ae86d6fdcc",
        "colab": {
          "base_uri": "https://localhost:8080/",
          "height": 242
        }
      },
      "source": [
        "df['parapheWeb']"
      ],
      "execution_count": 0,
      "outputs": [
        {
          "output_type": "execute_result",
          "data": {
            "text/plain": [
              "0             Learning from Artemisia | la loge      ...\n",
              "1                                                      1\n",
              "2                                                      1\n",
              "3                                                      1\n",
              "4                                                      1\n",
              "                             ...                        \n",
              "274                                                    1\n",
              "275                                                    1\n",
              "276                                                    1\n",
              "277                                                    1\n",
              "278                                                    1\n",
              "Name: parapheWeb, Length: 279, dtype: object"
            ]
          },
          "metadata": {
            "tags": []
          },
          "execution_count": 58
        }
      ]
    },
    {
      "cell_type": "code",
      "metadata": {
        "id": "PDenkWg-xPl0",
        "colab_type": "code",
        "colab": {}
      },
      "source": [
        ""
      ],
      "execution_count": 0,
      "outputs": []
    },
    {
      "cell_type": "markdown",
      "metadata": {
        "id": "PzH9l9xrz9bN",
        "colab_type": "text"
      },
      "source": [
        "2) on réalise la meme chose pour tout les liens web.\n"
      ]
    },
    {
      "cell_type": "code",
      "metadata": {
        "id": "WHhfP_zP0K1B",
        "colab_type": "code",
        "outputId": "b81ceab6-fa0d-4ae8-f8d2-f7b4956fdb0d",
        "colab": {
          "base_uri": "https://localhost:8080/",
          "height": 279
        }
      },
      "source": [
        "df=pd.read_csv('sarah_lienWeb_V1.csv', sep=',',encoding= \"utf-8\")\n",
        "df.head"
      ],
      "execution_count": 0,
      "outputs": [
        {
          "output_type": "execute_result",
          "data": {
            "text/plain": [
              "<bound method NDFrame.head of       id  ...                      siteweb_V2\n",
              "0      1  ...         https://www.glassbox.fr\n",
              "1      3  ...                             NaN\n",
              "2      4  ...            https://www.0gms.com\n",
              "3      5  ...  https://www.art-immanence.org/\n",
              "4      6  ...  https://www.lecommissariat.fr/\n",
              "..   ...  ...                             ...\n",
              "274  315  ...        https://www.duuuradio.fr\n",
              "275  316  ...          https://lecube-art.com\n",
              "276  317  ...                             NaN\n",
              "277  318  ...                             NaN\n",
              "278  319  ...                             NaN\n",
              "\n",
              "[279 rows x 5 columns]>"
            ]
          },
          "metadata": {
            "tags": []
          },
          "execution_count": 71
        }
      ]
    },
    {
      "cell_type": "code",
      "metadata": {
        "id": "c4P2Mq4U0LF0",
        "colab_type": "code",
        "outputId": "2598411f-bde0-4f84-aa12-77d1aaa835a8",
        "colab": {
          "base_uri": "https://localhost:8080/",
          "height": 242
        }
      },
      "source": [
        "df['siteweb_V2']"
      ],
      "execution_count": 0,
      "outputs": [
        {
          "output_type": "execute_result",
          "data": {
            "text/plain": [
              "0             https://www.glassbox.fr\n",
              "1                                 NaN\n",
              "2                https://www.0gms.com\n",
              "3      https://www.art-immanence.org/\n",
              "4      https://www.lecommissariat.fr/\n",
              "                    ...              \n",
              "274          https://www.duuuradio.fr\n",
              "275            https://lecube-art.com\n",
              "276                               NaN\n",
              "277                               NaN\n",
              "278                               NaN\n",
              "Name: siteweb_V2, Length: 279, dtype: object"
            ]
          },
          "metadata": {
            "tags": []
          },
          "execution_count": 72
        }
      ]
    },
    {
      "cell_type": "code",
      "metadata": {
        "id": "rmxJIeh10Lcq",
        "colab_type": "code",
        "colab": {}
      },
      "source": [
        "import requests\n",
        "nb=len(df['siteweb_V2'])\n",
        "for i in range(0,nb):\n",
        "  try :\n",
        "    response = requests.get(df['siteweb_V2'][i])\n",
        "  except:\n",
        "    pass"
      ],
      "execution_count": 0,
      "outputs": []
    },
    {
      "cell_type": "code",
      "metadata": {
        "id": "vZIoA74O0LZd",
        "colab_type": "code",
        "colab": {}
      },
      "source": [
        ""
      ],
      "execution_count": 0,
      "outputs": []
    },
    {
      "cell_type": "code",
      "metadata": {
        "id": "aXiPZmQ60LBd",
        "colab_type": "code",
        "colab": {}
      },
      "source": [
        ""
      ],
      "execution_count": 0,
      "outputs": []
    },
    {
      "cell_type": "code",
      "metadata": {
        "id": "2sdo5aUE0K9Z",
        "colab_type": "code",
        "colab": {}
      },
      "source": [
        ""
      ],
      "execution_count": 0,
      "outputs": []
    },
    {
      "cell_type": "code",
      "metadata": {
        "id": "gzdk_MmMNm6L",
        "colab_type": "code",
        "outputId": "4c5e53b0-b4b9-4a87-cdaa-3e6ae266ca96",
        "colab": {
          "base_uri": "https://localhost:8080/",
          "height": 388
        }
      },
      "source": [
        "import requests\n",
        "for i in range(0,len(df)):\n",
        "   response = requests.get(df['website'][i])"
      ],
      "execution_count": 0,
      "outputs": [
        {
          "output_type": "error",
          "ename": "MissingSchema",
          "evalue": "ignored",
          "traceback": [
            "\u001b[0;31m---------------------------------------------------------------------------\u001b[0m",
            "\u001b[0;31mMissingSchema\u001b[0m                             Traceback (most recent call last)",
            "\u001b[0;32m<ipython-input-30-a0844a09c2cc>\u001b[0m in \u001b[0;36m<module>\u001b[0;34m()\u001b[0m\n\u001b[1;32m      2\u001b[0m \u001b[0;32mimport\u001b[0m \u001b[0mrequests\u001b[0m\u001b[0;34m\u001b[0m\u001b[0;34m\u001b[0m\u001b[0m\n\u001b[1;32m      3\u001b[0m \u001b[0;32mfor\u001b[0m \u001b[0mi\u001b[0m \u001b[0;32min\u001b[0m \u001b[0mrange\u001b[0m\u001b[0;34m(\u001b[0m\u001b[0;36m0\u001b[0m\u001b[0;34m,\u001b[0m\u001b[0mlen\u001b[0m\u001b[0;34m(\u001b[0m\u001b[0mdf\u001b[0m\u001b[0;34m)\u001b[0m\u001b[0;34m)\u001b[0m\u001b[0;34m:\u001b[0m\u001b[0;34m\u001b[0m\u001b[0;34m\u001b[0m\u001b[0m\n\u001b[0;32m----> 4\u001b[0;31m    \u001b[0mresponse\u001b[0m \u001b[0;34m=\u001b[0m \u001b[0mrequests\u001b[0m\u001b[0;34m.\u001b[0m\u001b[0mget\u001b[0m\u001b[0;34m(\u001b[0m\u001b[0mdf\u001b[0m\u001b[0;34m[\u001b[0m\u001b[0;34m'website'\u001b[0m\u001b[0;34m]\u001b[0m\u001b[0;34m[\u001b[0m\u001b[0mi\u001b[0m\u001b[0;34m]\u001b[0m\u001b[0;34m)\u001b[0m\u001b[0;34m\u001b[0m\u001b[0;34m\u001b[0m\u001b[0m\n\u001b[0m",
            "\u001b[0;32m/usr/local/lib/python3.6/dist-packages/requests/api.py\u001b[0m in \u001b[0;36mget\u001b[0;34m(url, params, **kwargs)\u001b[0m\n\u001b[1;32m     73\u001b[0m \u001b[0;34m\u001b[0m\u001b[0m\n\u001b[1;32m     74\u001b[0m     \u001b[0mkwargs\u001b[0m\u001b[0;34m.\u001b[0m\u001b[0msetdefault\u001b[0m\u001b[0;34m(\u001b[0m\u001b[0;34m'allow_redirects'\u001b[0m\u001b[0;34m,\u001b[0m \u001b[0;32mTrue\u001b[0m\u001b[0;34m)\u001b[0m\u001b[0;34m\u001b[0m\u001b[0;34m\u001b[0m\u001b[0m\n\u001b[0;32m---> 75\u001b[0;31m     \u001b[0;32mreturn\u001b[0m \u001b[0mrequest\u001b[0m\u001b[0;34m(\u001b[0m\u001b[0;34m'get'\u001b[0m\u001b[0;34m,\u001b[0m \u001b[0murl\u001b[0m\u001b[0;34m,\u001b[0m \u001b[0mparams\u001b[0m\u001b[0;34m=\u001b[0m\u001b[0mparams\u001b[0m\u001b[0;34m,\u001b[0m \u001b[0;34m**\u001b[0m\u001b[0mkwargs\u001b[0m\u001b[0;34m)\u001b[0m\u001b[0;34m\u001b[0m\u001b[0;34m\u001b[0m\u001b[0m\n\u001b[0m\u001b[1;32m     76\u001b[0m \u001b[0;34m\u001b[0m\u001b[0m\n\u001b[1;32m     77\u001b[0m \u001b[0;34m\u001b[0m\u001b[0m\n",
            "\u001b[0;32m/usr/local/lib/python3.6/dist-packages/requests/api.py\u001b[0m in \u001b[0;36mrequest\u001b[0;34m(method, url, **kwargs)\u001b[0m\n\u001b[1;32m     58\u001b[0m     \u001b[0;31m# cases, and look like a memory leak in others.\u001b[0m\u001b[0;34m\u001b[0m\u001b[0;34m\u001b[0m\u001b[0;34m\u001b[0m\u001b[0m\n\u001b[1;32m     59\u001b[0m     \u001b[0;32mwith\u001b[0m \u001b[0msessions\u001b[0m\u001b[0;34m.\u001b[0m\u001b[0mSession\u001b[0m\u001b[0;34m(\u001b[0m\u001b[0;34m)\u001b[0m \u001b[0;32mas\u001b[0m \u001b[0msession\u001b[0m\u001b[0;34m:\u001b[0m\u001b[0;34m\u001b[0m\u001b[0;34m\u001b[0m\u001b[0m\n\u001b[0;32m---> 60\u001b[0;31m         \u001b[0;32mreturn\u001b[0m \u001b[0msession\u001b[0m\u001b[0;34m.\u001b[0m\u001b[0mrequest\u001b[0m\u001b[0;34m(\u001b[0m\u001b[0mmethod\u001b[0m\u001b[0;34m=\u001b[0m\u001b[0mmethod\u001b[0m\u001b[0;34m,\u001b[0m \u001b[0murl\u001b[0m\u001b[0;34m=\u001b[0m\u001b[0murl\u001b[0m\u001b[0;34m,\u001b[0m \u001b[0;34m**\u001b[0m\u001b[0mkwargs\u001b[0m\u001b[0;34m)\u001b[0m\u001b[0;34m\u001b[0m\u001b[0;34m\u001b[0m\u001b[0m\n\u001b[0m\u001b[1;32m     61\u001b[0m \u001b[0;34m\u001b[0m\u001b[0m\n\u001b[1;32m     62\u001b[0m \u001b[0;34m\u001b[0m\u001b[0m\n",
            "\u001b[0;32m/usr/local/lib/python3.6/dist-packages/requests/sessions.py\u001b[0m in \u001b[0;36mrequest\u001b[0;34m(self, method, url, params, data, headers, cookies, files, auth, timeout, allow_redirects, proxies, hooks, stream, verify, cert, json)\u001b[0m\n\u001b[1;32m    517\u001b[0m             \u001b[0mhooks\u001b[0m\u001b[0;34m=\u001b[0m\u001b[0mhooks\u001b[0m\u001b[0;34m,\u001b[0m\u001b[0;34m\u001b[0m\u001b[0;34m\u001b[0m\u001b[0m\n\u001b[1;32m    518\u001b[0m         )\n\u001b[0;32m--> 519\u001b[0;31m         \u001b[0mprep\u001b[0m \u001b[0;34m=\u001b[0m \u001b[0mself\u001b[0m\u001b[0;34m.\u001b[0m\u001b[0mprepare_request\u001b[0m\u001b[0;34m(\u001b[0m\u001b[0mreq\u001b[0m\u001b[0;34m)\u001b[0m\u001b[0;34m\u001b[0m\u001b[0;34m\u001b[0m\u001b[0m\n\u001b[0m\u001b[1;32m    520\u001b[0m \u001b[0;34m\u001b[0m\u001b[0m\n\u001b[1;32m    521\u001b[0m         \u001b[0mproxies\u001b[0m \u001b[0;34m=\u001b[0m \u001b[0mproxies\u001b[0m \u001b[0;32mor\u001b[0m \u001b[0;34m{\u001b[0m\u001b[0;34m}\u001b[0m\u001b[0;34m\u001b[0m\u001b[0;34m\u001b[0m\u001b[0m\n",
            "\u001b[0;32m/usr/local/lib/python3.6/dist-packages/requests/sessions.py\u001b[0m in \u001b[0;36mprepare_request\u001b[0;34m(self, request)\u001b[0m\n\u001b[1;32m    460\u001b[0m             \u001b[0mauth\u001b[0m\u001b[0;34m=\u001b[0m\u001b[0mmerge_setting\u001b[0m\u001b[0;34m(\u001b[0m\u001b[0mauth\u001b[0m\u001b[0;34m,\u001b[0m \u001b[0mself\u001b[0m\u001b[0;34m.\u001b[0m\u001b[0mauth\u001b[0m\u001b[0;34m)\u001b[0m\u001b[0;34m,\u001b[0m\u001b[0;34m\u001b[0m\u001b[0;34m\u001b[0m\u001b[0m\n\u001b[1;32m    461\u001b[0m             \u001b[0mcookies\u001b[0m\u001b[0;34m=\u001b[0m\u001b[0mmerged_cookies\u001b[0m\u001b[0;34m,\u001b[0m\u001b[0;34m\u001b[0m\u001b[0;34m\u001b[0m\u001b[0m\n\u001b[0;32m--> 462\u001b[0;31m             \u001b[0mhooks\u001b[0m\u001b[0;34m=\u001b[0m\u001b[0mmerge_hooks\u001b[0m\u001b[0;34m(\u001b[0m\u001b[0mrequest\u001b[0m\u001b[0;34m.\u001b[0m\u001b[0mhooks\u001b[0m\u001b[0;34m,\u001b[0m \u001b[0mself\u001b[0m\u001b[0;34m.\u001b[0m\u001b[0mhooks\u001b[0m\u001b[0;34m)\u001b[0m\u001b[0;34m,\u001b[0m\u001b[0;34m\u001b[0m\u001b[0;34m\u001b[0m\u001b[0m\n\u001b[0m\u001b[1;32m    463\u001b[0m         )\n\u001b[1;32m    464\u001b[0m         \u001b[0;32mreturn\u001b[0m \u001b[0mp\u001b[0m\u001b[0;34m\u001b[0m\u001b[0;34m\u001b[0m\u001b[0m\n",
            "\u001b[0;32m/usr/local/lib/python3.6/dist-packages/requests/models.py\u001b[0m in \u001b[0;36mprepare\u001b[0;34m(self, method, url, headers, files, data, params, auth, cookies, hooks, json)\u001b[0m\n\u001b[1;32m    311\u001b[0m \u001b[0;34m\u001b[0m\u001b[0m\n\u001b[1;32m    312\u001b[0m         \u001b[0mself\u001b[0m\u001b[0;34m.\u001b[0m\u001b[0mprepare_method\u001b[0m\u001b[0;34m(\u001b[0m\u001b[0mmethod\u001b[0m\u001b[0;34m)\u001b[0m\u001b[0;34m\u001b[0m\u001b[0;34m\u001b[0m\u001b[0m\n\u001b[0;32m--> 313\u001b[0;31m         \u001b[0mself\u001b[0m\u001b[0;34m.\u001b[0m\u001b[0mprepare_url\u001b[0m\u001b[0;34m(\u001b[0m\u001b[0murl\u001b[0m\u001b[0;34m,\u001b[0m \u001b[0mparams\u001b[0m\u001b[0;34m)\u001b[0m\u001b[0;34m\u001b[0m\u001b[0;34m\u001b[0m\u001b[0m\n\u001b[0m\u001b[1;32m    314\u001b[0m         \u001b[0mself\u001b[0m\u001b[0;34m.\u001b[0m\u001b[0mprepare_headers\u001b[0m\u001b[0;34m(\u001b[0m\u001b[0mheaders\u001b[0m\u001b[0;34m)\u001b[0m\u001b[0;34m\u001b[0m\u001b[0;34m\u001b[0m\u001b[0m\n\u001b[1;32m    315\u001b[0m         \u001b[0mself\u001b[0m\u001b[0;34m.\u001b[0m\u001b[0mprepare_cookies\u001b[0m\u001b[0;34m(\u001b[0m\u001b[0mcookies\u001b[0m\u001b[0;34m)\u001b[0m\u001b[0;34m\u001b[0m\u001b[0;34m\u001b[0m\u001b[0m\n",
            "\u001b[0;32m/usr/local/lib/python3.6/dist-packages/requests/models.py\u001b[0m in \u001b[0;36mprepare_url\u001b[0;34m(self, url, params)\u001b[0m\n\u001b[1;32m    385\u001b[0m             \u001b[0merror\u001b[0m \u001b[0;34m=\u001b[0m \u001b[0merror\u001b[0m\u001b[0;34m.\u001b[0m\u001b[0mformat\u001b[0m\u001b[0;34m(\u001b[0m\u001b[0mto_native_string\u001b[0m\u001b[0;34m(\u001b[0m\u001b[0murl\u001b[0m\u001b[0;34m,\u001b[0m \u001b[0;34m'utf8'\u001b[0m\u001b[0;34m)\u001b[0m\u001b[0;34m)\u001b[0m\u001b[0;34m\u001b[0m\u001b[0;34m\u001b[0m\u001b[0m\n\u001b[1;32m    386\u001b[0m \u001b[0;34m\u001b[0m\u001b[0m\n\u001b[0;32m--> 387\u001b[0;31m             \u001b[0;32mraise\u001b[0m \u001b[0mMissingSchema\u001b[0m\u001b[0;34m(\u001b[0m\u001b[0merror\u001b[0m\u001b[0;34m)\u001b[0m\u001b[0;34m\u001b[0m\u001b[0;34m\u001b[0m\u001b[0m\n\u001b[0m\u001b[1;32m    388\u001b[0m \u001b[0;34m\u001b[0m\u001b[0m\n\u001b[1;32m    389\u001b[0m         \u001b[0;32mif\u001b[0m \u001b[0;32mnot\u001b[0m \u001b[0mhost\u001b[0m\u001b[0;34m:\u001b[0m\u001b[0;34m\u001b[0m\u001b[0;34m\u001b[0m\u001b[0m\n",
            "\u001b[0;31mMissingSchema\u001b[0m: Invalid URL 'www.la-loge.be': No schema supplied. Perhaps you meant http://www.la-loge.be?"
          ]
        }
      ]
    }
  ]
}